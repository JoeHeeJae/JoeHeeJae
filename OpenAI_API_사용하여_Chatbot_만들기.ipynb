{
  "nbformat": 4,
  "nbformat_minor": 0,
  "metadata": {
    "colab": {
      "provenance": [],
      "mount_file_id": "1Qgi77GT-jqRr2lxoyiId38d3d44yeocm",
      "authorship_tag": "ABX9TyM0aD1f/1k57SV/2rFrjQRm",
      "include_colab_link": true
    },
    "kernelspec": {
      "name": "python3",
      "display_name": "Python 3"
    },
    "language_info": {
      "name": "python"
    }
  },
  "cells": [
    {
      "cell_type": "markdown",
      "metadata": {
        "id": "view-in-github",
        "colab_type": "text"
      },
      "source": [
        "<a href=\"https://colab.research.google.com/github/JoeHeeJae/JoeHeeJae/blob/main/OpenAI_API_%EC%82%AC%EC%9A%A9%ED%95%98%EC%97%AC_Chatbot_%EB%A7%8C%EB%93%A4%EA%B8%B0.ipynb\" target=\"_parent\"><img src=\"https://colab.research.google.com/assets/colab-badge.svg\" alt=\"Open In Colab\"/></a>"
      ]
    },
    {
      "cell_type": "code",
      "source": [
        "!pip install openai"
      ],
      "metadata": {
        "id": "mZZDnNMBsWfm"
      },
      "execution_count": null,
      "outputs": []
    },
    {
      "cell_type": "code",
      "execution_count": null,
      "metadata": {
        "id": "8yeV7BQ1o80H"
      },
      "outputs": [],
      "source": [
        "import os\n",
        "import openai\n",
        "openai.api_key = \"개인 API\"\n",
        "\n",
        "messages = []\n",
        "while True:\n",
        "  user_content = input(\"Me : \")\n",
        "  messages.append({\"role\" : \"user\", \"content\" : f\"{user_content}\"})\n",
        "\n",
        "  completion = openai.ChatCompletion.create(model=\"gpt-3.5-turbo\", messages=messages)\n",
        "\n",
        "  assistant_content = completion['choices'][0]['message']['content'].strip()\n",
        "\n",
        "  messages.append({\"role\" : \"user\", \"content\" : f\"{assistant_content}\"})\n",
        "\n",
        "  print(f\"Lu : {assistant_content}\")\n",
        "  # print(completion['choices'][0]['message']['content'])\n",
        "  # print(response['choices'][0]['message']['content'])"
      ]
    },
    {
      "cell_type": "code",
      "source": [
        "from google.colab import drive\n",
        "drive.mount('/content/drive')"
      ],
      "metadata": {
        "id": "xkvozb6sgr8w"
      },
      "execution_count": null,
      "outputs": []
    },
    {
      "cell_type": "code",
      "source": [],
      "metadata": {
        "id": "BISsZdEar0C8"
      },
      "execution_count": null,
      "outputs": []
    }
  ]
}